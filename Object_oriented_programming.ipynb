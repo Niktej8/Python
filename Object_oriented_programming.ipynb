{
  "nbformat": 4,
  "nbformat_minor": 0,
  "metadata": {
    "colab": {
      "provenance": []
    },
    "kernelspec": {
      "name": "python3",
      "display_name": "Python 3"
    },
    "language_info": {
      "name": "python"
    }
  },
  "cells": [
    {
      "cell_type": "markdown",
      "source": [
        "##Class and Object\n",
        "### Class\n",
        "In object-oriented programming (OOP), a class is a blueprint or template for creating objects. It defines the structure and behavior of objects of that class. A class encapsulates data (attributes) and behavior (methods) that are common to all instances (objects) of that class.\n",
        "### Object\n",
        "An object, on the other hand, is an instance of a class. It is a specific entity created based on the blueprint defined by the class."
      ],
      "metadata": {
        "id": "7gikpv-BPkar"
      }
    },
    {
      "cell_type": "markdown",
      "source": [
        "# New Section"
      ],
      "metadata": {
        "id": "hmh_AJxeckPr"
      }
    },
    {
      "cell_type": "code",
      "execution_count": 54,
      "metadata": {
        "id": "U-z0ZqcKMdAh"
      },
      "outputs": [],
      "source": [
        "class Car:\n",
        "    def __init__(self, make, model, year, color):\n",
        "        self.make = make\n",
        "        self.model = model\n",
        "        self.year = year\n",
        "        self.color = color\n",
        "\n",
        "    def start_engine(self):\n",
        "        print(f\"The {self.make} {self.model}'s engine is now running.\")\n",
        "\n",
        "    def accelerate(self):\n",
        "        print(f\"The {self.make} {self.model} is accelerating.\")\n",
        "\n",
        "    def brake(self):\n",
        "        print(f\"The {self.make} {self.model} is braking.\")"
      ]
    },
    {
      "cell_type": "code",
      "source": [
        "my_car = Car(\"Venue\",\"SX\",2023,\"Black\")\n",
        "varuns_car = Car(\"XUV\",\"W8\",2021,\"Black\")"
      ],
      "metadata": {
        "id": "PLGQK61nVfAm"
      },
      "execution_count": 55,
      "outputs": []
    },
    {
      "cell_type": "code",
      "source": [
        "print(my_car.make)\n",
        "print(my_car.model)\n",
        "my_car.start_engine()\n",
        "my_car.accelerate()\n",
        "my_car.brake()\n",
        "varuns_car.make\n",
        "varuns_car.start_engine()"
      ],
      "metadata": {
        "colab": {
          "base_uri": "https://localhost:8080/"
        },
        "id": "domsx1YBNr7J",
        "outputId": "7a2d0ead-047e-4378-9377-0a020b988e29"
      },
      "execution_count": 56,
      "outputs": [
        {
          "output_type": "stream",
          "name": "stdout",
          "text": [
            "Venue\n",
            "SX\n",
            "The Venue SX's engine is now running.\n",
            "The Venue SX is accelerating.\n",
            "The Venue SX is braking.\n",
            "The XUV W8's engine is now running.\n"
          ]
        }
      ]
    },
    {
      "cell_type": "markdown",
      "source": [
        "## Class constructor\n",
        "In object-oriented programming, a constructor is a special method that is automatically called when an object of a class is instantiated (created). It is used to initialize the attributes (properties) of the object. The constructor method in Python is named __init__."
      ],
      "metadata": {
        "id": "ppLDWsr6ncEu"
      }
    },
    {
      "cell_type": "code",
      "source": [
        "class MyClass:\n",
        "    # Constructor\n",
        "    def __init__(self, attribute1, attribute2):\n",
        "        # Initialize attributes\n",
        "        self.attribute1 = attribute1\n",
        "        self.attribute2 = attribute2\n",
        "\n",
        "    # Other methods can be defined within the class\n",
        "\n",
        "# Creating an instance of the class and calling the constructor\n",
        "my_object = MyClass(\"value1\", \"value2\")\n",
        "\n",
        "# Accessing attributes of the object\n",
        "print(my_object.attribute1)  # Output: value1\n",
        "print(my_object.attribute2)  # Output: value2\n"
      ],
      "metadata": {
        "colab": {
          "base_uri": "https://localhost:8080/"
        },
        "id": "Lvf21zo6nZQ8",
        "outputId": "876fd864-fdcb-4cb2-ccc9-2b0691c29294"
      },
      "execution_count": 57,
      "outputs": [
        {
          "output_type": "stream",
          "name": "stdout",
          "text": [
            "value1\n",
            "value2\n"
          ]
        }
      ]
    },
    {
      "cell_type": "markdown",
      "source": [
        "## Self Keyword\n",
        "Self keyword refers to the object of the class.It can be changable."
      ],
      "metadata": {
        "id": "B8dG8KUuSh3X"
      }
    },
    {
      "cell_type": "code",
      "source": [
        "class carr:\n",
        "    def __init__(jo, make, model, year, color):\n",
        "        jo.make = make\n",
        "        jo.model = model\n",
        "        jo.year = year\n",
        "        jo.color = color\n",
        "c = carr(\"Toyoto\",\"X\",2023,\"White\")"
      ],
      "metadata": {
        "id": "OUtVG_k6PODh"
      },
      "execution_count": 58,
      "outputs": []
    },
    {
      "cell_type": "markdown",
      "source": [
        "## Class Variables\n",
        "Variables that are created outside the init method are called class variables.It is bound to class level where it can used in any methods."
      ],
      "metadata": {
        "id": "URj-AqTfTOVo"
      }
    },
    {
      "cell_type": "code",
      "source": [
        "class Dog:\n",
        "    species = \"Canis familiaris\"  # Class variable\n",
        "\n",
        "    def __init__(self, name, age):\n",
        "        self.name = name\n",
        "        self.age = age\n",
        "\n",
        "# Creating instances of the Dog class\n",
        "dog1 = Dog(\"Fido\", 5)\n",
        "dog2 = Dog(\"Rex\", 3)\n",
        "\n",
        "# Accessing the class variable\n",
        "print(dog1.species)  # Output: \"Canis familiaris\"\n",
        "print(dog2.species)  # Output: \"Canis familiaris\"\n",
        "\n",
        "Dog.species = \"Canis lupus\"  # Changing the class variable\n",
        "\n",
        "print(dog1.species)  # Output: \"Canis lupus\"\n",
        "print(dog2.species)  # Output: \"Canis lupus\"\n"
      ],
      "metadata": {
        "colab": {
          "base_uri": "https://localhost:8080/"
        },
        "id": "7_HfMARzScA8",
        "outputId": "401a8043-0038-4eae-c222-edfc331e2a8b"
      },
      "execution_count": 59,
      "outputs": [
        {
          "output_type": "stream",
          "name": "stdout",
          "text": [
            "Canis familiaris\n",
            "Canis familiaris\n",
            "Canis lupus\n",
            "Canis lupus\n"
          ]
        }
      ]
    },
    {
      "cell_type": "markdown",
      "source": [
        "## Class Methods\n",
        "A class method is a method that is bound to the class itself, rather than to any specific instance. It can access and modify class-level attributes and perform operations that involve the class as a whole. Class methods are defined using the @classmethod decorator."
      ],
      "metadata": {
        "id": "498Xdhh9V-Pg"
      }
    },
    {
      "cell_type": "code",
      "source": [
        "class Dog:\n",
        "    species = \"Canis familiaris\"  # Class variable\n",
        "\n",
        "    def __init__(self, name, age):\n",
        "        self.name = name\n",
        "        self.age = age\n",
        "\n",
        "    @classmethod\n",
        "    def get_species(cls): # cls represents to class\n",
        "        return cls.species\n",
        "\n",
        "# Using the class method\n",
        "print(Dog.get_species())  # Output: \"Canis familiaris\"\n"
      ],
      "metadata": {
        "colab": {
          "base_uri": "https://localhost:8080/"
        },
        "id": "JW-Bg4u2TEzr",
        "outputId": "0e9b74b3-7583-436b-eb2c-a9d3d8edef80"
      },
      "execution_count": 60,
      "outputs": [
        {
          "output_type": "stream",
          "name": "stdout",
          "text": [
            "Canis familiaris\n"
          ]
        }
      ]
    },
    {
      "cell_type": "markdown",
      "source": [
        "## Static Methods\n",
        "A static method is a method that is bound to the class rather than to instances. It does not receive any implicit first argument (neither self nor cls). Static methods are defined using the @staticmethod decorator.\n",
        "\n",
        "###When to Use:\n",
        "Use a class method when you need to operate on class-level attributes or perform actions related to the class itself.\n",
        "\n",
        "Use a static method when the method doesn't need access to the class or its instances and operates independently within the class."
      ],
      "metadata": {
        "id": "KXcCRV2xWj4l"
      }
    },
    {
      "cell_type": "code",
      "source": [
        "class Calculator:\n",
        "    @staticmethod\n",
        "    def add(x, y):\n",
        "        return x + y\n",
        "\n",
        "# Using the static method\n",
        "result = Calculator.add(5, 3)\n",
        "print(result)  # Output: 8\n"
      ],
      "metadata": {
        "colab": {
          "base_uri": "https://localhost:8080/"
        },
        "id": "8tLasQVbWO4o",
        "outputId": "b7faac6d-a91f-490c-d13f-42fd9475eda0"
      },
      "execution_count": 61,
      "outputs": [
        {
          "output_type": "stream",
          "name": "stdout",
          "text": [
            "8\n"
          ]
        }
      ]
    },
    {
      "cell_type": "markdown",
      "source": [
        "## Inheritance\n",
        "Inheritance is a fundamental concept in object-oriented programming (OOP) that allows one class (called the subclass) to inherit the attributes and methods of another class (called the superclass). This enables the subclass to reuse the code defined in the superclass, which promotes code reuse and modularity.\n",
        "\n",
        "The class that is being inherited from is referred to as the superclass or parent class, and the class that inherits from it is referred to as the subclass or child class."
      ],
      "metadata": {
        "id": "sRlfetQAXWJD"
      }
    },
    {
      "cell_type": "code",
      "source": [
        "class Animal:\n",
        "    def __init__(self, name):\n",
        "        self.name = name\n",
        "\n",
        "    def speak(self):\n",
        "        pass  # This will be overridden by subclasses\n",
        "\n",
        "class Dog(Animal):\n",
        "    def speak(self):\n",
        "        return \"Woof!\"\n",
        "\n",
        "class Cat(Animal):\n",
        "    def speak(self):\n",
        "        return \"Meow!\"\n",
        "\n",
        "# Creating instances of the subclasses\n",
        "dog = Dog(\"Fido\")\n",
        "cat = Cat(\"Whiskers\")\n",
        "\n",
        "# Using inherited methods\n",
        "print(dog.name)  # Output: \"Fido\"\n",
        "print(dog.speak())  # Output: \"Woof!\"\n",
        "\n",
        "print(cat.name)  # Output: \"Whiskers\"\n",
        "print(cat.speak())  # Output: \"Meow!\"\n"
      ],
      "metadata": {
        "colab": {
          "base_uri": "https://localhost:8080/"
        },
        "id": "IqbDY3ZwWsOd",
        "outputId": "0ede7ea3-295f-4488-ecb0-01d68f3807a0"
      },
      "execution_count": 62,
      "outputs": [
        {
          "output_type": "stream",
          "name": "stdout",
          "text": [
            "Fido\n",
            "Woof!\n",
            "Whiskers\n",
            "Meow!\n"
          ]
        }
      ]
    },
    {
      "cell_type": "markdown",
      "source": [
        "### Super()\n",
        "The super() function is typically used inside a method of a subclass to call a method with the same name from the superclass. It's often used when you want to extend the behavior of a method defined in the superclass, rather than completely replacing it."
      ],
      "metadata": {
        "id": "69wkkzEjbxqc"
      }
    },
    {
      "cell_type": "code",
      "source": [
        "class Animal:\n",
        "    def __init__(self, name):\n",
        "        self.name = name\n",
        "\n",
        "    def speak(self):\n",
        "        return \"Some generic sound\"\n",
        "\n",
        "class Dog(Animal):\n",
        "    def speak(self):\n",
        "        return super().speak() + \" Woof!\"  # Calls the speak method from Animal\n",
        "\n",
        "# Creating an instance of the subclass\n",
        "dog = Dog(\"Fido\")\n",
        "\n",
        "# Using the overridden method\n",
        "print(dog.speak())  # Output: \"Some generic sound Woof!\"\n"
      ],
      "metadata": {
        "colab": {
          "base_uri": "https://localhost:8080/"
        },
        "id": "FcSusJJkbw40",
        "outputId": "039c8be2-5b40-4d83-abe5-d63a4ac019d5"
      },
      "execution_count": 63,
      "outputs": [
        {
          "output_type": "stream",
          "name": "stdout",
          "text": [
            "Some generic sound Woof!\n"
          ]
        }
      ]
    },
    {
      "cell_type": "markdown",
      "source": [
        "## Encapsulation\n",
        "The main purpose of encapsulation is to restrict access to certain components of an object, providing a level of security and preventing unintended interference or modification of an object's internal state. This is achieved by declaring certain attributes or methods as private, which means they can only be accessed or modified by methods within the same class."
      ],
      "metadata": {
        "id": "jcKojLIYaHe1"
      }
    },
    {
      "cell_type": "code",
      "source": [
        "class Person:\n",
        "    def __init__(self, name, age):\n",
        "        self.__name = name  # Private attribute\n",
        "        self.__age = age  # Private attribute\n",
        "\n",
        "    def get_name(self):  # Public method\n",
        "        return self.__name\n",
        "\n",
        "    def set_name(self, new_name):  # Public method\n",
        "        self.__name = new_name\n",
        "\n",
        "    def get_age(self):  # Public method\n",
        "        return self.__age\n",
        "\n",
        "    def set_age(self, new_age):  # Public method\n",
        "        self.__age = new_age\n",
        "\n",
        "# Creating an instance of the class\n",
        "person = Person(\"John Doe\", 30)\n",
        "\n",
        "# Accessing attributes and methods\n",
        "print(person.get_name())  # Output: \"John Doe\"\n",
        "print(person.get_age())   # Output: 30\n",
        "\n",
        "person.set_name(\"Jane Doe\")\n",
        "person.set_age(35)\n",
        "\n",
        "print(person.get_name())  # Output: \"Jane Doe\"\n",
        "print(person.get_age())   # Output: 35\n",
        "\n",
        "# Attempting to access private attributes directly (will result in an error)\n",
        "# print(person.__name)  # This will cause an AttributeError\n"
      ],
      "metadata": {
        "colab": {
          "base_uri": "https://localhost:8080/"
        },
        "id": "sMSV1BWcaFVg",
        "outputId": "e9e07daa-f17a-44c0-e6b1-93e443cf4e1f"
      },
      "execution_count": 64,
      "outputs": [
        {
          "output_type": "stream",
          "name": "stdout",
          "text": [
            "John Doe\n",
            "30\n",
            "Jane Doe\n",
            "35\n"
          ]
        }
      ]
    },
    {
      "cell_type": "markdown",
      "source": [
        "## Data Abstraction\n",
        "Data abstraction is one of the four fundamental Object-Oriented Programming (OOP) concepts, along with encapsulation, inheritance, and polymorphism. It involves the process of hiding the implementation details of an object and only exposing the relevant attributes and methods to the user.\n",
        "\n",
        "The main goal of data abstraction is to provide a simplified and intuitive interface for interacting with objects, while hiding the underlying complexity."
      ],
      "metadata": {
        "id": "ocwB1MR1dUyH"
      }
    },
    {
      "cell_type": "code",
      "source": [
        "class BankAccount:\n",
        "    def __init__(self, account_number, balance):\n",
        "        self.account_number = account_number\n",
        "        self.balance = balance\n",
        "\n",
        "    def deposit(self, amount):\n",
        "        self.balance += amount\n",
        "\n",
        "    def withdraw(self, amount):\n",
        "        if self.balance >= amount:\n",
        "            self.balance -= amount\n",
        "        else:\n",
        "            print(\"Insufficient funds\")\n",
        "\n",
        "    def get_balance(self):\n",
        "        return self.balance\n",
        "\n",
        "# Creating an instance of the class\n",
        "account = BankAccount(\"123456\", 1000)\n",
        "\n",
        "# Using the public methods (interface)\n",
        "account.deposit(500)\n",
        "account.withdraw(200)\n",
        "print(account.get_balance())  # Output: 1300\n"
      ],
      "metadata": {
        "colab": {
          "base_uri": "https://localhost:8080/"
        },
        "id": "wzdbFDfgan-l",
        "outputId": "94255675-81ff-4de4-d36f-cfe7413dff85"
      },
      "execution_count": 65,
      "outputs": [
        {
          "output_type": "stream",
          "name": "stdout",
          "text": [
            "1300\n"
          ]
        }
      ]
    },
    {
      "cell_type": "markdown",
      "source": [
        "## Polymorphism\n",
        "In Oops,it refers to the functions having same name but carrying different functionalities.same method name in two different classes undergo two different functionality"
      ],
      "metadata": {
        "id": "MMXyz6EbemOG"
      }
    },
    {
      "cell_type": "markdown",
      "source": [
        "In this example, we have an Animal class with a method make_sound. The Dog and Cat subclasses override this method with their own specific implementations."
      ],
      "metadata": {
        "id": "FztmPuHLe8U1"
      }
    },
    {
      "cell_type": "code",
      "source": [
        "class Animal:\n",
        "    def make_sound(self):\n",
        "        pass\n",
        "\n",
        "class Dog(Animal):\n",
        "    def make_sound(self):\n",
        "        return \"Woof!\"\n",
        "\n",
        "class Cat(Animal):\n",
        "    def make_sound(self):\n",
        "        return \"Meow!\"\n",
        "\n",
        "# Creating instances of the subclasses\n",
        "dog = Dog()\n",
        "cat = Cat()\n",
        "\n",
        "# Using polymorphism\n",
        "print(dog.make_sound())  # Output: \"Woof!\"\n",
        "print(cat.make_sound())  # Output: \"Meow!\"\n"
      ],
      "metadata": {
        "colab": {
          "base_uri": "https://localhost:8080/"
        },
        "id": "b2XNujlLdaq1",
        "outputId": "54f47ea3-13fc-472c-ed64-0a79c8a7a3c8"
      },
      "execution_count": 66,
      "outputs": [
        {
          "output_type": "stream",
          "name": "stdout",
          "text": [
            "Woof!\n",
            "Meow!\n"
          ]
        }
      ]
    },
    {
      "cell_type": "markdown",
      "source": [
        "## Types of Polymorphism"
      ],
      "metadata": {
        "id": "T0ud6RwepI63"
      }
    },
    {
      "cell_type": "markdown",
      "source": [
        "## Duck Typing\n",
        "Duck typing is a form of polymorphism in object-oriented programming. The concept is similar to the saying, 'If it walks like a duck, swims like a duck, and quacks like a duck, then it must be a duck.' In the context of programming, it means we don't need to concern ourselves with the specific class of an object; instead, we focus on whether the object has a particular method defined. This flexibility in checking behavior rather than strict types makes Python more adaptable to different objects.\n"
      ],
      "metadata": {
        "id": "KY8t-qY4rD_w"
      }
    },
    {
      "cell_type": "code",
      "source": [
        "class Duck:\n",
        "  def swim(self):\n",
        "    print(\"Yes I swim\")\n",
        "  def speak(self):\n",
        "    print(\"Yes I speak\")\n",
        "  def walk(self):\n",
        "    print(\"Yes I walk\")\n",
        "class Dog:\n",
        "  def swim(self):\n",
        "    print(\"Yes I swim\")\n",
        "  def speak(self):\n",
        "    print(\"Yes I speak\")\n",
        "  def walk(self):\n",
        "    print(\"Yes I walk\")\n",
        "\n",
        "def func(obj):\n",
        "  obj.swim()\n",
        "  obj.speak()\n",
        "  obj.walk()\n",
        "  print(\"Operations performed\")\n",
        "\n",
        "duck = Duck()\n",
        "dog = Dog()\n",
        "func(dog)\n"
      ],
      "metadata": {
        "colab": {
          "base_uri": "https://localhost:8080/"
        },
        "id": "6bc1gxZurBMj",
        "outputId": "b657c63d-ee6a-4eee-86b8-5a557f45ca52"
      },
      "execution_count": 67,
      "outputs": [
        {
          "output_type": "stream",
          "name": "stdout",
          "text": [
            "Yes I swim\n",
            "Yes I speak\n",
            "Yes I walk\n",
            "Operations performed\n"
          ]
        }
      ]
    },
    {
      "cell_type": "markdown",
      "source": [
        "### 1)Method Overloading\n",
        "Method overloading occurs when a class has multiple methods with the same name but different parameter lists.\n",
        "\n",
        "We can define multiple methods with the same name in a class in Python, only the last defined method with that name will be used. This is why Python is not considered to support traditional method overloading like some other languages."
      ],
      "metadata": {
        "id": "rpFWYNfapMR3"
      }
    },
    {
      "cell_type": "code",
      "source": [
        "class Calculator:\n",
        "    def add(self, x, y):\n",
        "        return x + y\n",
        "\n",
        "    def add(self, x, y, z):\n",
        "        return x + y + z\n",
        "\n",
        "calc = Calculator()\n",
        "result = calc.add(2, 3, 4)\n",
        "print(result)  # Output: 9\n"
      ],
      "metadata": {
        "colab": {
          "base_uri": "https://localhost:8080/"
        },
        "id": "9fDcu7Uae4vd",
        "outputId": "a4adda62-aaad-486c-ecf4-fc5f7547a914"
      },
      "execution_count": 68,
      "outputs": [
        {
          "output_type": "stream",
          "name": "stdout",
          "text": [
            "9\n"
          ]
        }
      ]
    },
    {
      "cell_type": "markdown",
      "source": [
        "## 2)Operator Overloading\n",
        "Operator overloading involves defining new behavior for operators (like +, -, *, etc.) when applied to objects of a class. This allows you to perform custom operations based on the operands."
      ],
      "metadata": {
        "id": "MPpbmt0sp7bo"
      }
    },
    {
      "cell_type": "code",
      "source": [
        "class Vector:\n",
        "    def __init__(self, x, y):\n",
        "        self.x = x\n",
        "        self.y = y\n",
        "\n",
        "    def __add__(self, other):\n",
        "        return Vector(self.x + other.x, self.y + other.y)\n",
        "\n",
        "v1 = Vector(2, 3)\n",
        "v2 = Vector(1, 2)\n",
        "v3 = v1 + v2  # Calls the __add__ method to perform vector addition\n"
      ],
      "metadata": {
        "id": "J4DmQi8poYq2"
      },
      "execution_count": 69,
      "outputs": []
    },
    {
      "cell_type": "markdown",
      "source": [
        "## Method Overriding\n",
        "Method overriding occurs when a subclass provides a specific implementation for a method that is already defined in its superclass. The method in the subclass \"overrides\" the behavior of the method in the superclass."
      ],
      "metadata": {
        "id": "V2ZCL2hvqpiA"
      }
    },
    {
      "cell_type": "code",
      "source": [
        "class Animal:\n",
        "    def make_sound(self):\n",
        "        return \"Generic animal sound\"\n",
        "\n",
        "class Dog(Animal):\n",
        "    def make_sound(self):\n",
        "        return \"Woof!\"\n",
        "\n",
        "class Cat(Animal):\n",
        "    def make_sound(self):\n",
        "        return \"Meow!\"\n",
        "\n",
        "dog = Dog()\n",
        "cat = Cat()\n",
        "sound1 = dog.make_sound()  # Calls the overridden method in Dog\n",
        "sound2 = cat.make_sound()  # Calls the overridden method in Cat\n"
      ],
      "metadata": {
        "id": "RYxHwUE8och9"
      },
      "execution_count": 70,
      "outputs": []
    },
    {
      "cell_type": "markdown",
      "source": [
        "### if __name__ == \"__main__\"\n",
        "The expression if __name__ == \"__main__\": is a common idiom in Python that allows you to execute certain code only if the Python script is run directly as the main module (i.e., not imported as a module in another script).\n",
        "Here's what it means:\n",
        "\n",
        "\n",
        "*   __name__ is a built-in variable in Python that represents the name of the current module.\n",
        "*   When you run a Python script directly, the value of __name__ for that script is set to \"__main__\". This indicates that it is the main module being executed.\n",
        "\n",
        "\n",
        "*   If the script is imported as a module in another script, the value of __name__ will be the actual name of the module, not \"__main__\".\n",
        "\n",
        "So, the expression if __name__ == \"__main__\": checks whether the current script is being run directly as the main module. If it is, the code inside the block following this condition will be executed. This is often used to include code that should only run when the script is executed directly and not when it's imported as a module."
      ],
      "metadata": {
        "id": "a9ynYsNTrF6n"
      }
    },
    {
      "cell_type": "markdown",
      "source": [
        "## Decorators\n",
        "Decorators are a powerful feature in Python that allow you to extend or modify the behavior of functions or methods without directly modifying their code. Decorators are implemented using functions themselves and can be used to add functionality to existing functions or methods in a concise and reusable way.\n",
        "\n",
        "To create a decorator, you define a function that takes another function as an argument, adds some functionality around the original function, and then returns a new function.\n",
        "\n"
      ],
      "metadata": {
        "id": "bQ_FwAABtpqm"
      }
    },
    {
      "cell_type": "code",
      "source": [
        "def my_decorator(func):\n",
        "    def wrapper():\n",
        "        print(\"Before function is called\")\n",
        "        func()\n",
        "        print(\"After function is called\")\n",
        "    return wrapper\n",
        "\n",
        "@my_decorator # decorator function name\n",
        "def my_function():\n",
        "    print(\"Inside the function\")\n",
        "\n",
        "# Using the decorated function\n",
        "my_function()\n"
      ],
      "metadata": {
        "colab": {
          "base_uri": "https://localhost:8080/"
        },
        "id": "iK9vspE5qxSn",
        "outputId": "46380884-9e1a-451e-d671-adf8f4986e29"
      },
      "execution_count": 71,
      "outputs": [
        {
          "output_type": "stream",
          "name": "stdout",
          "text": [
            "Before function is called\n",
            "Inside the function\n",
            "After function is called\n"
          ]
        }
      ]
    },
    {
      "cell_type": "markdown",
      "source": [
        "## Iterators and Generators\n",
        "Generators and iterators are related concepts in Python that allow you to work with sequences of data without having to store the entire sequence in memory at once. This can be particularly useful when dealing with large datasets.\n",
        "### Iterators:\n",
        "Imagine you have a large dataset of records, and you want to process each record one by one. Using an iterator, you can process each record without loading the entire dataset into memory.\n",
        "\n",
        "An iterator is an object that implements two methods: __iter__() and __next__().\n",
        "\n",
        "The __iter__() method returns the iterator object itself.\n",
        "The __next__() method returns the next element from the iterator."
      ],
      "metadata": {
        "id": "fN0nL_135x2z"
      }
    },
    {
      "cell_type": "code",
      "source": [
        "class EvenNumbers:\n",
        "    def __init__(self, max):\n",
        "        self.max = max\n",
        "        self.current = 0\n",
        "\n",
        "    def __iter__(self):\n",
        "        return self\n",
        "\n",
        "    def __next__(self):\n",
        "        if self.current <= self.max:\n",
        "            result = self.current\n",
        "            self.current += 2\n",
        "            return result\n",
        "        else:\n",
        "            raise StopIteration\n",
        "\n",
        "# Using the iterator\n",
        "even_numbers = EvenNumbers(10)\n",
        "print(next(even_numbers)) # for this 0\n",
        "print(next(even_numbers)) # for this 2\n",
        "print(\"-----------------------------------\")\n",
        "for num in even_numbers:\n",
        "    print(num)\n"
      ],
      "metadata": {
        "colab": {
          "base_uri": "https://localhost:8080/"
        },
        "id": "HFlQ-M35t3WO",
        "outputId": "fd208407-902a-44e4-d35c-dd5fde1b2dca"
      },
      "execution_count": 72,
      "outputs": [
        {
          "output_type": "stream",
          "name": "stdout",
          "text": [
            "0\n",
            "2\n",
            "-----------------------------------\n",
            "4\n",
            "6\n",
            "8\n",
            "10\n"
          ]
        }
      ]
    },
    {
      "cell_type": "markdown",
      "source": [
        "#### Iter BuiltIn Function"
      ],
      "metadata": {
        "id": "ndw8-Dnm6NZV"
      }
    },
    {
      "cell_type": "code",
      "source": [
        "# Creating the list\n",
        "my_list = [1, 2, 3, 4, 5, 6, 7, 8, 9, 10]\n",
        "\n",
        "# Creating the iterator using iter()\n",
        "my_iterator = iter(my_list)\n",
        "\n",
        "# Using the iterator\n",
        "for item in my_iterator:\n",
        "    print(item)"
      ],
      "metadata": {
        "colab": {
          "base_uri": "https://localhost:8080/"
        },
        "id": "Mxv2ONSvzxrQ",
        "outputId": "0638da23-bf55-49dc-e01a-f0911d702665"
      },
      "execution_count": 73,
      "outputs": [
        {
          "output_type": "stream",
          "name": "stdout",
          "text": [
            "1\n",
            "2\n",
            "3\n",
            "4\n",
            "5\n",
            "6\n",
            "7\n",
            "8\n",
            "9\n",
            "10\n"
          ]
        }
      ]
    },
    {
      "cell_type": "markdown",
      "source": [
        "### Generators\n",
        "A generator is a special type of iterator that is created using a function and the yield keyword. The yield statement pauses the function's execution and returns a value to the caller. The function's state is preserved, allowing it to resume where it left off when called again.\n",
        "\n",
        "Generators are more memory efficient than regular iterators because they generate values one at a time on-the-fly, rather than storing them all in memory."
      ],
      "metadata": {
        "id": "GRXeIGJA6mie"
      }
    },
    {
      "cell_type": "code",
      "source": [
        "def even_numbers(max):\n",
        "    current = 0\n",
        "    while current <= max:\n",
        "        yield current\n",
        "        current += 2\n",
        "# Using the generator\n",
        "for num in even_numbers(10):\n",
        "    print(num)\n"
      ],
      "metadata": {
        "colab": {
          "base_uri": "https://localhost:8080/"
        },
        "id": "4REoFz5sz2n7",
        "outputId": "fb470bf0-d46b-4ce4-c446-cf7ce1e369f1"
      },
      "execution_count": 74,
      "outputs": [
        {
          "output_type": "stream",
          "name": "stdout",
          "text": [
            "0\n",
            "2\n",
            "4\n",
            "6\n",
            "8\n",
            "10\n"
          ]
        }
      ]
    },
    {
      "cell_type": "code",
      "source": [
        "def my_generator():\n",
        "    yield 1\n",
        "    yield 2\n",
        "    yield 3\n",
        "\n",
        "# Create an instance of the generator\n",
        "gen = my_generator()\n",
        "\n",
        "# Use next() to manually iterate\n",
        "print(next(gen))  # Output: 1\n",
        "print(next(gen))  # Output: 2\n",
        "print(next(gen))  # Output: 3\n",
        "\n",
        "# After all items are yielded, calling next() again will raise a StopIteration exception\n"
      ],
      "metadata": {
        "colab": {
          "base_uri": "https://localhost:8080/"
        },
        "id": "pefZ1V0g1KMq",
        "outputId": "85982de8-f797-4cc9-b373-402312fbb7bf"
      },
      "execution_count": 75,
      "outputs": [
        {
          "output_type": "stream",
          "name": "stdout",
          "text": [
            "1\n",
            "2\n",
            "3\n"
          ]
        }
      ]
    },
    {
      "cell_type": "markdown",
      "source": [
        "## Exceptions\n",
        "\n",
        "In Python, an exception is an event that occurs during the execution of a program that disrupts the normal flow of instructions. When an exception occurs, it can be \"caught\" and handled by the program, allowing it to respond to the error gracefully rather than crashing.\n",
        "\n",
        "### Raising an Exception:\n",
        "You can raise an exception using the raise keyword. For example:"
      ],
      "metadata": {
        "id": "IrNunHyJhb6v"
      }
    },
    {
      "cell_type": "code",
      "source": [
        "# raise ValueError(\"This is a custom error message\")"
      ],
      "metadata": {
        "id": "Sn4dmsgocoPa"
      },
      "execution_count": 76,
      "outputs": []
    },
    {
      "cell_type": "markdown",
      "source": [
        "### Handling Exceptions:\n",
        "You can handle exceptions using a try-except block. This allows you to catch and respond to specific types of exceptions. For example:"
      ],
      "metadata": {
        "id": "y5nD8T5niDjI"
      }
    },
    {
      "cell_type": "code",
      "source": [
        "try:\n",
        "    # Code that may raise an exception\n",
        "    x = 5\n",
        "except ValueError as e:\n",
        "    # Code to handle the ValueError exception\n",
        "    print(f\"An error occurred: {e}\")"
      ],
      "metadata": {
        "id": "eL2UkDH9cxWt"
      },
      "execution_count": 77,
      "outputs": []
    },
    {
      "cell_type": "markdown",
      "source": [
        "Exception Types: Python has many built-in exception types, like ValueError, TypeError, IndexError, etc. You can also create your own custom exception types by subclassing Exception.\n",
        "\n",
        "Multiple Except Blocks: You can have multiple except blocks to catch different types of exceptions. The first block that matches the exception type will be executed."
      ],
      "metadata": {
        "id": "un1TaRkYiO7f"
      }
    },
    {
      "cell_type": "code",
      "source": [
        "try:\n",
        "    # Code that may raise an exception\n",
        "    x = 0\n",
        "    result = 10 / 0\n",
        "except ValueError as e:\n",
        "    print(f\"ValueError: {e}\")\n",
        "except ZeroDivisionError as e:\n",
        "    print(f\"ZeroDivisionError: {e}\")\n"
      ],
      "metadata": {
        "colab": {
          "base_uri": "https://localhost:8080/"
        },
        "id": "ZwHQmm8liJb3",
        "outputId": "21a57d03-6ec7-4ca8-ef89-7bf40f67e0ff"
      },
      "execution_count": 78,
      "outputs": [
        {
          "output_type": "stream",
          "name": "stdout",
          "text": [
            "ZeroDivisionError: division by zero\n"
          ]
        }
      ]
    },
    {
      "cell_type": "markdown",
      "source": [
        "The else Block: You can use an else block after the try and except blocks to specify code that should be executed if no exceptions are raised."
      ],
      "metadata": {
        "id": "MmE6EneQiYuT"
      }
    },
    {
      "cell_type": "code",
      "source": [
        "try:\n",
        "    x = 2\n",
        "    result = 10 / 2\n",
        "except ValueError as e:\n",
        "    print(f\"ValueError: {e}\")\n",
        "else:\n",
        "    print(f\"The result is: {result}\")\n"
      ],
      "metadata": {
        "colab": {
          "base_uri": "https://localhost:8080/"
        },
        "id": "WtZUug7BiU7g",
        "outputId": "f3bde4ea-1b5c-4e1f-e837-7328ffaa3938"
      },
      "execution_count": 79,
      "outputs": [
        {
          "output_type": "stream",
          "name": "stdout",
          "text": [
            "The result is: 5.0\n"
          ]
        }
      ]
    },
    {
      "cell_type": "markdown",
      "source": [
        "The finally Block: You can use a finally block after the try and except blocks to specify code that should be executed regardless of whether an exception was raised or not. This block is often used for cleanup operations."
      ],
      "metadata": {
        "id": "zvHQS6_5ibzi"
      }
    },
    {
      "cell_type": "code",
      "source": [
        "try:\n",
        "    x = 0\n",
        "    result = 10 / x\n",
        "except Exception as e:\n",
        "    print(f\"{e}\")\n",
        "else:\n",
        "    print(f\"The result is: {result}\")\n",
        "finally:\n",
        "    print(\"Execution complete.\")\n"
      ],
      "metadata": {
        "colab": {
          "base_uri": "https://localhost:8080/"
        },
        "id": "hXDQp5-xia2n",
        "outputId": "cf5d74ac-9ac7-40a4-c1fc-f194b7e97403"
      },
      "execution_count": 80,
      "outputs": [
        {
          "output_type": "stream",
          "name": "stdout",
          "text": [
            "division by zero\n",
            "Execution complete.\n"
          ]
        }
      ]
    },
    {
      "cell_type": "markdown",
      "source": [
        "## Context Managers\n",
        "A context manager in Python is an object that is used to set up a resource before a block of code is executed and then clean up that resource after the block of code has been executed. It ensures that certain operations are performed before and after a specific code block is executed, regardless of whether the code block raises an exception.\n",
        "\n",
        "Context managers are typically used with the with statement, which ensures that a context manager's __enter__ method is called before the block of code is executed, and the __exit__ method is called after the block of code is executed."
      ],
      "metadata": {
        "id": "EpPpKz0lmskF"
      }
    },
    {
      "cell_type": "code",
      "source": [
        "with open('Preparation.txt',\"w\") as file:\n",
        "  file.write(\"Hello world\")\n",
        "  file.write(\"Mad Gud\")"
      ],
      "metadata": {
        "id": "MP3Uwn-IknLi"
      },
      "execution_count": 81,
      "outputs": []
    },
    {
      "cell_type": "code",
      "source": [
        "with open(\"Preparation.txt\", \"r\") as file:\n",
        "    content = file.read()"
      ],
      "metadata": {
        "id": "sOzFvlKJk0Zz"
      },
      "execution_count": 82,
      "outputs": []
    },
    {
      "cell_type": "code",
      "source": [
        "print(content)"
      ],
      "metadata": {
        "colab": {
          "base_uri": "https://localhost:8080/"
        },
        "id": "CvHOSoSqk_Ud",
        "outputId": "ac1e44c9-52ed-4dea-e919-61980dd31057"
      },
      "execution_count": 83,
      "outputs": [
        {
          "output_type": "stream",
          "name": "stdout",
          "text": [
            "Hello worldMad Gud\n"
          ]
        }
      ]
    },
    {
      "cell_type": "markdown",
      "source": [
        "## Synchronus and Asynchronus Programming\n",
        "### Synchronus:\n",
        "Synchronous programming refers to the traditional way of writing code where tasks are executed one after the other, in a sequential manner. In synchronous code, if one task takes a long time to complete (such as reading a file or making a network request), it can block the execution of other tasks."
      ],
      "metadata": {
        "id": "8Ru42bINp_Bx"
      }
    },
    {
      "cell_type": "code",
      "source": [
        "import time\n",
        "\n",
        "def task_1():\n",
        "    print(\"Task 1 started\")\n",
        "    time.sleep(5)  # Simulating a time-consuming task\n",
        "    print(\"Task 1 completed\")\n",
        "    time.sleep(2)\n",
        "\n",
        "def task_2():\n",
        "    print(\"Task 2 started\")\n",
        "    time.sleep(5)  # Simulating a time-consuming task\n",
        "    print(\"Task 2 completed\")\n",
        "    time.sleep(2)\n",
        "\n",
        "# Running tasks sequentially\n",
        "task_1()\n",
        "task_2()\n"
      ],
      "metadata": {
        "colab": {
          "base_uri": "https://localhost:8080/"
        },
        "id": "t-MchTEIljE_",
        "outputId": "27c68cd1-bd02-473d-961f-ba67271da941"
      },
      "execution_count": 84,
      "outputs": [
        {
          "output_type": "stream",
          "name": "stdout",
          "text": [
            "Task 1 started\n",
            "Task 1 completed\n",
            "Task 2 started\n",
            "Task 2 completed\n"
          ]
        }
      ]
    },
    {
      "cell_type": "markdown",
      "source": [
        "### Asynchronus Programming\n",
        "Asynchronous programming allows tasks to be executed concurrently, without waiting for the completion of one task before starting the next. This is achieved using techniques like threading, multiprocessing, or asynchronous libraries in Python.\n",
        "\n",
        "One popular library for asynchronous programming in Python is asyncio. It provides a way to write asynchronous code using the async and await keywords."
      ],
      "metadata": {
        "id": "wnTOBppiqLVj"
      }
    },
    {
      "cell_type": "markdown",
      "source": [
        "![Screenshot 2023-11-02 070317.png](data:image/png;base64,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)"
      ],
      "metadata": {
        "id": "jbqRgpxSqX5X"
      }
    },
    {
      "cell_type": "code",
      "source": [
        "# import asyncio\n",
        "\n",
        "# async def async_foo():\n",
        "#     print(\"async_foo started\")\n",
        "#     await asyncio.sleep(5)\n",
        "#     print(\"async_foo done\")\n",
        "\n",
        "# async def main():\n",
        "#     asyncio.ensure_future(async_foo())  # fire and forget async_foo()\n",
        "#     print('Do some actions 1')\n",
        "#     await asyncio.sleep(5)\n",
        "#     print('Do some actions 2')\n",
        "\n",
        "# loop = asyncio.get_event_loop()\n",
        "# loop.run_until_complete(main())"
      ],
      "metadata": {
        "id": "W6vJpJOSnpEQ"
      },
      "execution_count": 85,
      "outputs": []
    }
  ]
}